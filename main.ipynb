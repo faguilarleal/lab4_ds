{
 "cells": [
  {
   "cell_type": "markdown",
   "id": "a748b589",
   "metadata": {},
   "source": [
    "# Laboratorio 4\n",
    "### Análisis de modelos usandodatos geospaciales."
   ]
  },
  {
   "cell_type": "markdown",
   "id": "5c88d182",
   "metadata": {},
   "source": [
    "**Integrantes:**  \n",
    "* Francis Aguilar 22243 \n",
    "* Angela García 22869\n",
    "* César López 22404"
   ]
  },
  {
   "cell_type": "code",
   "execution_count": null,
   "id": "acfeedcd",
   "metadata": {
    "vscode": {
     "languageId": "plaintext"
    }
   },
   "outputs": [],
   "source": [
    "#!pip install openeo\n",
    "#!pip install rasterio"
   ]
  }
 ],
 "metadata": {
  "language_info": {
   "name": "python"
  }
 },
 "nbformat": 4,
 "nbformat_minor": 5
}
